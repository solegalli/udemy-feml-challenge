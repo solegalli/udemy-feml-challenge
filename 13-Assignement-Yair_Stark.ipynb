{
 "cells": [
  {
   "cell_type": "markdown",
   "metadata": {},
   "source": [
    "## Assignment:\n",
    "\n",
    "Beat the performance of my Lasso regression by **using different feature engineering steps ONLY!!**.\n",
    "\n",
    "The performance of my current model, as shown in this notebook is:\n",
    "- test rmse: 44798.497576784845\n",
    "- test r2: 0.7079639526659389\n",
    "\n",
    "To beat my model you will need a test r2 bigger than 0.71 and a rmse smaller than 44798.\n",
    "\n",
    "\n",
    "=====================================================================================================\n",
    "\n",
    "\n",
    "### Conditions:\n",
    "\n",
    "- You MUST NOT change the hyperparameters of the Lasso.\n",
    "- You MUST use the same seeds in Lasso and train_test_split as I show in this notebook (random_state)\n",
    "- You MUST use all the features of the dataset (except Id) - you MUST NOT select features\n",
    "\n",
    "\n",
    "=====================================================================================================\n",
    "\n",
    "\n",
    "### If you beat my model:\n",
    "\n",
    "Make a pull request with your notebook to this github repo:\n",
    "https://github.com/solegalli/udemy-feml-challenge\n",
    "\n",
    "\n",
    "### How to make the PR\n",
    "\n",
    "1) fork the repo:\n",
    "\n",
    "Go to https://github.com/solegalli/udemy-feml-challenge, and click on the **fork** button at the top-right\n",
    "\n",
    "2) clone your forked repo into your local computer:\n",
    "\n",
    "- Go to www.github.com/yourusername/udemy-feml-challenge\n",
    "- Click the green button that says clone or download\n",
    "- copy the url that opens up\n",
    "- power up a git console\n",
    "- type: git clone (paste the url you copied from github)\n",
    "- done\n",
    "\n",
    "3) Make a copy of the jupyter notebook and add your name:\n",
    "\n",
    "- Open up the Jupyter notebook called 13-Assignement.ipynb\n",
    "- Click the \"File\" button at the top-right and then click \"Make a copy\"\n",
    "- **Work your solution in the Copy** and not in the original assignment (otherwise there will be conflicts when making the PR)\n",
    "- Change the name of the copy of the notebook to: 13-Assignement_yourname.ipynb\n",
    "- done\n",
    "\n",
    "When you finish, just commit the new notebook to your fork and then make a PR to my repo\n",
    "\n",
    "\n",
    "## But i have a notebook ready and I haven't cloned the repo yet, how can I make the PR?\n",
    "\n",
    "If you worked in the copy you downloaded from Udemy before forking and cloning this repo, then follow this steps:\n",
    "\n",
    "1) fork the repo:\n",
    "\n",
    "Go to https://github.com/solegalli/udemy-feml-challenge, and click on the fork button at the top-right\n",
    "\n",
    "2) clone your forked repo into your local computer:\n",
    "\n",
    "Go to www.github.com/yourusername/udemy-feml-challenge\n",
    "\n",
    "- Click the green button that says clone or download\n",
    "- Copy the url that opens up\n",
    "- Power up a git console\n",
    "- Type: git clone (paste the url you copied from github)\n",
    "- Done\n",
    "\n",
    "3) Rename your solution as follows and copy it into your cloned repo:\n",
    "\n",
    "- Rename your solution notebook to: 13-Assignement_yourname.ipynb\n",
    "- Copy this file into the cloned repo\n",
    "- Done\n",
    "\n",
    "When you finish, just commit the new notebook to your fork and then make a PR to my repo\n",
    "\n",
    "\n",
    "**Good luck!!**"
   ]
  },
  {
   "cell_type": "markdown",
   "metadata": {},
   "source": [
    "## House Prices dataset"
   ]
  },
  {
   "cell_type": "code",
   "execution_count": 3,
   "metadata": {},
   "outputs": [],
   "source": [
    "from math import sqrt\n",
    "import pandas as pd\n",
    "import numpy as np\n",
    "import matplotlib.pyplot as plt\n",
    "\n",
    "# for the model\n",
    "from sklearn.model_selection import train_test_split\n",
    "from sklearn.linear_model import Lasso\n",
    "from sklearn.pipeline import Pipeline\n",
    "from sklearn.metrics import mean_squared_error, r2_score\n",
    "\n",
    "# for feature engineering\n",
    "from sklearn.preprocessing import StandardScaler\n",
    "from feature_engine import missing_data_imputers as mdi\n",
    "from feature_engine import discretisers as dsc\n",
    "from feature_engine import categorical_encoders as ce"
   ]
  },
  {
   "cell_type": "markdown",
   "metadata": {},
   "source": [
    "### Load Datasets"
   ]
  },
  {
   "cell_type": "code",
   "execution_count": 4,
   "metadata": {},
   "outputs": [],
   "source": [
    "# load dataset\n",
    "\n",
    "data = pd.read_csv('../houseprice.csv')"
   ]
  },
  {
   "cell_type": "code",
   "execution_count": 5,
   "metadata": {},
   "outputs": [
    {
     "name": "stdout",
     "output_type": "stream",
     "text": [
      "There are 18 continuous variables\n",
      "There are 14 discrete variables\n",
      "There are 4 temporal variables\n",
      "There are 43 categorical variables\n"
     ]
    }
   ],
   "source": [
    "# make lists of variable types\n",
    "\n",
    "categorical = [var for var in data.columns if data[var].dtype == 'O']\n",
    "\n",
    "year_vars = [var for var in data.columns if 'Yr' in var or 'Year' in var]\n",
    "\n",
    "discrete = [\n",
    "    var for var in data.columns if data[var].dtype != 'O'\n",
    "    and len(data[var].unique()) < 20 and var not in year_vars\n",
    "]\n",
    "\n",
    "numerical = [\n",
    "    var for var in data.columns if data[var].dtype != 'O'\n",
    "    if var not in discrete and var not in ['Id', 'SalePrice']\n",
    "    and var not in year_vars\n",
    "]\n",
    "\n",
    "print('There are {} continuous variables'.format(len(numerical)))\n",
    "print('There are {} discrete variables'.format(len(discrete)))\n",
    "print('There are {} temporal variables'.format(len(year_vars)))\n",
    "print('There are {} categorical variables'.format(len(categorical)))"
   ]
  },
  {
   "cell_type": "markdown",
   "metadata": {},
   "source": [
    "### Separate train and test set"
   ]
  },
  {
   "cell_type": "code",
   "execution_count": 6,
   "metadata": {},
   "outputs": [],
   "source": [
    "# IMPORTANT: keep the random_state to zero for reproducibility\n",
    "# Let's separate into train and test set\n",
    "\n",
    "X_train, X_test, y_train, y_test = train_test_split(data.drop(\n",
    "    ['Id', 'SalePrice'], axis=1),\n",
    "    data['SalePrice'],\n",
    "    test_size=0.1,\n",
    "    random_state=0)"
   ]
  },
  {
   "cell_type": "code",
   "execution_count": 7,
   "metadata": {},
   "outputs": [],
   "source": [
    "# calculate elapsed time\n",
    "\n",
    "def elapsed_years(df, var):\n",
    "    # capture difference between year variable and\n",
    "    # year the house was sold\n",
    "    \n",
    "    df[var] = df['YrSold'] - df[var]\n",
    "    return df\n",
    "\n",
    "for var in ['YearBuilt', 'YearRemodAdd', 'GarageYrBlt']:\n",
    "    X_train = elapsed_years(X_train, var)\n",
    "    X_test = elapsed_years(X_test, var)"
   ]
  },
  {
   "cell_type": "code",
   "execution_count": 8,
   "metadata": {},
   "outputs": [],
   "source": [
    "# drop YrSold\n",
    "X_train.drop('YrSold', axis=1, inplace=True)\n",
    "X_test.drop('YrSold', axis=1, inplace=True)"
   ]
  },
  {
   "cell_type": "code",
   "execution_count": 9,
   "metadata": {},
   "outputs": [],
   "source": [
    "# capture the column names for use later in the notebook\n",
    "final_columns = X_train.columns"
   ]
  },
  {
   "cell_type": "markdown",
   "metadata": {},
   "source": [
    "## Feature Engineering Pipeline"
   ]
  },
  {
   "cell_type": "code",
   "execution_count": 10,
   "metadata": {},
   "outputs": [],
   "source": [
    "# I will treat discrete variables as if they were categorical\n",
    "# to treat discrete as categorical using Feature-engine\n",
    "# we need to re-cast them as object\n",
    "\n",
    "X_train[discrete] = X_train[discrete].astype('O')\n",
    "X_test[discrete] = X_test[discrete].astype('O')"
   ]
  },
  {
   "cell_type": "code",
   "execution_count": 12,
   "metadata": {},
   "outputs": [],
   "source": [
    "house_pipe = Pipeline([\n",
    "\n",
    "    # missing data imputation - section 4\n",
    "    ('missing_ind',\n",
    "     mdi.AddMissingIndicator(\n",
    "         variables=['LotFrontage', 'MasVnrArea', 'GarageYrBlt'])),\n",
    "    \n",
    "    ('imputer_num',\n",
    "     mdi.MeanMedianImputer(\n",
    "         imputation_method='median',\n",
    "         variables=['LotFrontage', 'MasVnrArea', 'GarageYrBlt'])),\n",
    "    \n",
    "    ('imputer_cat', mdi.CategoricalVariableImputer(variables=categorical)),\n",
    "\n",
    "    \n",
    "    # categorical encoding - section 6\n",
    "    ('rare_label_enc',\n",
    "     ce.RareLabelCategoricalEncoder(tol=0.05,\n",
    "                                    n_categories=6,\n",
    "                                    variables=categorical + discrete)),\n",
    "    ('categorical_enc',\n",
    "     ce.MeanCategoricalEncoder(variables=categorical + discrete)),\n",
    "\n",
    "    # discretisation + encoding - section 8\n",
    "    ('discretisation',\n",
    "     dsc.EqualFrequencyDiscretiser(q=5,\n",
    "                                   return_object=True,\n",
    "                                   variables=numerical)),\n",
    "    ('encoding',\n",
    "     ce.MeanCategoricalEncoder(variables=numerical)),\n",
    "\n",
    "    # feature Scaling - section 10\n",
    "    ('scaler', StandardScaler()),\n",
    "\n",
    "    # regression\n",
    "    ('lasso', Lasso(random_state=0))\n",
    "])"
   ]
  },
  {
   "cell_type": "code",
   "execution_count": 13,
   "metadata": {},
   "outputs": [
    {
     "name": "stderr",
     "output_type": "stream",
     "text": [
      "C:\\Users\\Yair\\miniconda3\\lib\\site-packages\\feature_engine\\categorical_encoders.py:786: UserWarning: The number of unique categories for variable MSZoning is less than that indicated in n_categories. Thus, all categories will be considered frequent\n",
      "  \"n_categories. Thus, all categories will be considered frequent\".format(var))\n",
      "C:\\Users\\Yair\\miniconda3\\lib\\site-packages\\feature_engine\\categorical_encoders.py:786: UserWarning: The number of unique categories for variable Street is less than that indicated in n_categories. Thus, all categories will be considered frequent\n",
      "  \"n_categories. Thus, all categories will be considered frequent\".format(var))\n",
      "C:\\Users\\Yair\\miniconda3\\lib\\site-packages\\feature_engine\\categorical_encoders.py:786: UserWarning: The number of unique categories for variable Alley is less than that indicated in n_categories. Thus, all categories will be considered frequent\n",
      "  \"n_categories. Thus, all categories will be considered frequent\".format(var))\n",
      "C:\\Users\\Yair\\miniconda3\\lib\\site-packages\\feature_engine\\categorical_encoders.py:786: UserWarning: The number of unique categories for variable LotShape is less than that indicated in n_categories. Thus, all categories will be considered frequent\n",
      "  \"n_categories. Thus, all categories will be considered frequent\".format(var))\n",
      "C:\\Users\\Yair\\miniconda3\\lib\\site-packages\\feature_engine\\categorical_encoders.py:786: UserWarning: The number of unique categories for variable LandContour is less than that indicated in n_categories. Thus, all categories will be considered frequent\n",
      "  \"n_categories. Thus, all categories will be considered frequent\".format(var))\n",
      "C:\\Users\\Yair\\miniconda3\\lib\\site-packages\\feature_engine\\categorical_encoders.py:786: UserWarning: The number of unique categories for variable Utilities is less than that indicated in n_categories. Thus, all categories will be considered frequent\n",
      "  \"n_categories. Thus, all categories will be considered frequent\".format(var))\n",
      "C:\\Users\\Yair\\miniconda3\\lib\\site-packages\\feature_engine\\categorical_encoders.py:786: UserWarning: The number of unique categories for variable LotConfig is less than that indicated in n_categories. Thus, all categories will be considered frequent\n",
      "  \"n_categories. Thus, all categories will be considered frequent\".format(var))\n",
      "C:\\Users\\Yair\\miniconda3\\lib\\site-packages\\feature_engine\\categorical_encoders.py:786: UserWarning: The number of unique categories for variable LandSlope is less than that indicated in n_categories. Thus, all categories will be considered frequent\n",
      "  \"n_categories. Thus, all categories will be considered frequent\".format(var))\n",
      "C:\\Users\\Yair\\miniconda3\\lib\\site-packages\\feature_engine\\categorical_encoders.py:786: UserWarning: The number of unique categories for variable BldgType is less than that indicated in n_categories. Thus, all categories will be considered frequent\n",
      "  \"n_categories. Thus, all categories will be considered frequent\".format(var))\n",
      "C:\\Users\\Yair\\miniconda3\\lib\\site-packages\\feature_engine\\categorical_encoders.py:786: UserWarning: The number of unique categories for variable RoofStyle is less than that indicated in n_categories. Thus, all categories will be considered frequent\n",
      "  \"n_categories. Thus, all categories will be considered frequent\".format(var))\n",
      "C:\\Users\\Yair\\miniconda3\\lib\\site-packages\\feature_engine\\categorical_encoders.py:786: UserWarning: The number of unique categories for variable MasVnrType is less than that indicated in n_categories. Thus, all categories will be considered frequent\n",
      "  \"n_categories. Thus, all categories will be considered frequent\".format(var))\n",
      "C:\\Users\\Yair\\miniconda3\\lib\\site-packages\\feature_engine\\categorical_encoders.py:786: UserWarning: The number of unique categories for variable ExterQual is less than that indicated in n_categories. Thus, all categories will be considered frequent\n",
      "  \"n_categories. Thus, all categories will be considered frequent\".format(var))\n",
      "C:\\Users\\Yair\\miniconda3\\lib\\site-packages\\feature_engine\\categorical_encoders.py:786: UserWarning: The number of unique categories for variable ExterCond is less than that indicated in n_categories. Thus, all categories will be considered frequent\n",
      "  \"n_categories. Thus, all categories will be considered frequent\".format(var))\n",
      "C:\\Users\\Yair\\miniconda3\\lib\\site-packages\\feature_engine\\categorical_encoders.py:786: UserWarning: The number of unique categories for variable Foundation is less than that indicated in n_categories. Thus, all categories will be considered frequent\n",
      "  \"n_categories. Thus, all categories will be considered frequent\".format(var))\n",
      "C:\\Users\\Yair\\miniconda3\\lib\\site-packages\\feature_engine\\categorical_encoders.py:786: UserWarning: The number of unique categories for variable BsmtQual is less than that indicated in n_categories. Thus, all categories will be considered frequent\n",
      "  \"n_categories. Thus, all categories will be considered frequent\".format(var))\n",
      "C:\\Users\\Yair\\miniconda3\\lib\\site-packages\\feature_engine\\categorical_encoders.py:786: UserWarning: The number of unique categories for variable BsmtCond is less than that indicated in n_categories. Thus, all categories will be considered frequent\n",
      "  \"n_categories. Thus, all categories will be considered frequent\".format(var))\n",
      "C:\\Users\\Yair\\miniconda3\\lib\\site-packages\\feature_engine\\categorical_encoders.py:786: UserWarning: The number of unique categories for variable BsmtExposure is less than that indicated in n_categories. Thus, all categories will be considered frequent\n",
      "  \"n_categories. Thus, all categories will be considered frequent\".format(var))\n",
      "C:\\Users\\Yair\\miniconda3\\lib\\site-packages\\feature_engine\\categorical_encoders.py:786: UserWarning: The number of unique categories for variable Heating is less than that indicated in n_categories. Thus, all categories will be considered frequent\n",
      "  \"n_categories. Thus, all categories will be considered frequent\".format(var))\n",
      "C:\\Users\\Yair\\miniconda3\\lib\\site-packages\\feature_engine\\categorical_encoders.py:786: UserWarning: The number of unique categories for variable HeatingQC is less than that indicated in n_categories. Thus, all categories will be considered frequent\n",
      "  \"n_categories. Thus, all categories will be considered frequent\".format(var))\n",
      "C:\\Users\\Yair\\miniconda3\\lib\\site-packages\\feature_engine\\categorical_encoders.py:786: UserWarning: The number of unique categories for variable CentralAir is less than that indicated in n_categories. Thus, all categories will be considered frequent\n",
      "  \"n_categories. Thus, all categories will be considered frequent\".format(var))\n",
      "C:\\Users\\Yair\\miniconda3\\lib\\site-packages\\feature_engine\\categorical_encoders.py:786: UserWarning: The number of unique categories for variable Electrical is less than that indicated in n_categories. Thus, all categories will be considered frequent\n",
      "  \"n_categories. Thus, all categories will be considered frequent\".format(var))\n",
      "C:\\Users\\Yair\\miniconda3\\lib\\site-packages\\feature_engine\\categorical_encoders.py:786: UserWarning: The number of unique categories for variable KitchenQual is less than that indicated in n_categories. Thus, all categories will be considered frequent\n",
      "  \"n_categories. Thus, all categories will be considered frequent\".format(var))\n",
      "C:\\Users\\Yair\\miniconda3\\lib\\site-packages\\feature_engine\\categorical_encoders.py:786: UserWarning: The number of unique categories for variable FireplaceQu is less than that indicated in n_categories. Thus, all categories will be considered frequent\n",
      "  \"n_categories. Thus, all categories will be considered frequent\".format(var))\n",
      "C:\\Users\\Yair\\miniconda3\\lib\\site-packages\\feature_engine\\categorical_encoders.py:786: UserWarning: The number of unique categories for variable GarageFinish is less than that indicated in n_categories. Thus, all categories will be considered frequent\n",
      "  \"n_categories. Thus, all categories will be considered frequent\".format(var))\n",
      "C:\\Users\\Yair\\miniconda3\\lib\\site-packages\\feature_engine\\categorical_encoders.py:786: UserWarning: The number of unique categories for variable GarageQual is less than that indicated in n_categories. Thus, all categories will be considered frequent\n",
      "  \"n_categories. Thus, all categories will be considered frequent\".format(var))\n",
      "C:\\Users\\Yair\\miniconda3\\lib\\site-packages\\feature_engine\\categorical_encoders.py:786: UserWarning: The number of unique categories for variable GarageCond is less than that indicated in n_categories. Thus, all categories will be considered frequent\n",
      "  \"n_categories. Thus, all categories will be considered frequent\".format(var))\n",
      "C:\\Users\\Yair\\miniconda3\\lib\\site-packages\\feature_engine\\categorical_encoders.py:786: UserWarning: The number of unique categories for variable PavedDrive is less than that indicated in n_categories. Thus, all categories will be considered frequent\n",
      "  \"n_categories. Thus, all categories will be considered frequent\".format(var))\n",
      "C:\\Users\\Yair\\miniconda3\\lib\\site-packages\\feature_engine\\categorical_encoders.py:786: UserWarning: The number of unique categories for variable PoolQC is less than that indicated in n_categories. Thus, all categories will be considered frequent\n",
      "  \"n_categories. Thus, all categories will be considered frequent\".format(var))\n",
      "C:\\Users\\Yair\\miniconda3\\lib\\site-packages\\feature_engine\\categorical_encoders.py:786: UserWarning: The number of unique categories for variable Fence is less than that indicated in n_categories. Thus, all categories will be considered frequent\n",
      "  \"n_categories. Thus, all categories will be considered frequent\".format(var))\n",
      "C:\\Users\\Yair\\miniconda3\\lib\\site-packages\\feature_engine\\categorical_encoders.py:786: UserWarning: The number of unique categories for variable MiscFeature is less than that indicated in n_categories. Thus, all categories will be considered frequent\n",
      "  \"n_categories. Thus, all categories will be considered frequent\".format(var))\n",
      "C:\\Users\\Yair\\miniconda3\\lib\\site-packages\\feature_engine\\categorical_encoders.py:786: UserWarning: The number of unique categories for variable SaleCondition is less than that indicated in n_categories. Thus, all categories will be considered frequent\n",
      "  \"n_categories. Thus, all categories will be considered frequent\".format(var))\n",
      "C:\\Users\\Yair\\miniconda3\\lib\\site-packages\\feature_engine\\categorical_encoders.py:786: UserWarning: The number of unique categories for variable BsmtFullBath is less than that indicated in n_categories. Thus, all categories will be considered frequent\n",
      "  \"n_categories. Thus, all categories will be considered frequent\".format(var))\n",
      "C:\\Users\\Yair\\miniconda3\\lib\\site-packages\\feature_engine\\categorical_encoders.py:786: UserWarning: The number of unique categories for variable BsmtHalfBath is less than that indicated in n_categories. Thus, all categories will be considered frequent\n",
      "  \"n_categories. Thus, all categories will be considered frequent\".format(var))\n",
      "C:\\Users\\Yair\\miniconda3\\lib\\site-packages\\feature_engine\\categorical_encoders.py:786: UserWarning: The number of unique categories for variable FullBath is less than that indicated in n_categories. Thus, all categories will be considered frequent\n",
      "  \"n_categories. Thus, all categories will be considered frequent\".format(var))\n",
      "C:\\Users\\Yair\\miniconda3\\lib\\site-packages\\feature_engine\\categorical_encoders.py:786: UserWarning: The number of unique categories for variable HalfBath is less than that indicated in n_categories. Thus, all categories will be considered frequent\n",
      "  \"n_categories. Thus, all categories will be considered frequent\".format(var))\n",
      "C:\\Users\\Yair\\miniconda3\\lib\\site-packages\\feature_engine\\categorical_encoders.py:786: UserWarning: The number of unique categories for variable KitchenAbvGr is less than that indicated in n_categories. Thus, all categories will be considered frequent\n",
      "  \"n_categories. Thus, all categories will be considered frequent\".format(var))\n",
      "C:\\Users\\Yair\\miniconda3\\lib\\site-packages\\feature_engine\\categorical_encoders.py:786: UserWarning: The number of unique categories for variable Fireplaces is less than that indicated in n_categories. Thus, all categories will be considered frequent\n",
      "  \"n_categories. Thus, all categories will be considered frequent\".format(var))\n",
      "C:\\Users\\Yair\\miniconda3\\lib\\site-packages\\feature_engine\\categorical_encoders.py:786: UserWarning: The number of unique categories for variable GarageCars is less than that indicated in n_categories. Thus, all categories will be considered frequent\n",
      "  \"n_categories. Thus, all categories will be considered frequent\".format(var))\n"
     ]
    }
   ],
   "source": [
    "# let's fit the pipeline\n",
    "house_pipe.fit(X_train, y_train)\n",
    "\n",
    "# let's get the predictions\n",
    "X_train_preds = house_pipe.predict(X_train)\n",
    "X_test_preds = house_pipe.predict(X_test)"
   ]
  },
  {
   "cell_type": "code",
   "execution_count": 14,
   "metadata": {},
   "outputs": [
    {
     "name": "stdout",
     "output_type": "stream",
     "text": [
      "train mse: 871977914.4211413\n",
      "train rmse: 29529.272162062196\n",
      "train r2: 0.860345708907978\n",
      "\n",
      "test mse: 1780109816.251404\n",
      "test rmse: 42191.347646779475\n",
      "test r2: 0.7409662466359455\n"
     ]
    }
   ],
   "source": [
    "# check model performance:\n",
    "\n",
    "print('train mse: {}'.format(mean_squared_error(y_train, X_train_preds)))\n",
    "print('train rmse: {}'.format(sqrt(mean_squared_error(y_train, X_train_preds))))\n",
    "print('train r2: {}'.format(r2_score(y_train, X_train_preds)))\n",
    "print()\n",
    "print('test mse: {}'.format(mean_squared_error(y_test, X_test_preds)))\n",
    "print('test rmse: {}'.format(sqrt(mean_squared_error(y_test, X_test_preds))))\n",
    "print('test r2: {}'.format(r2_score(y_test, X_test_preds)))"
   ]
  },
  {
   "cell_type": "code",
   "execution_count": 15,
   "metadata": {},
   "outputs": [
    {
     "data": {
      "text/plain": [
       "Text(0, 0.5, 'Predicted Price')"
      ]
     },
     "execution_count": 15,
     "metadata": {},
     "output_type": "execute_result"
    },
    {
     "data": {
      "image/png": "[encoded data removed]",
      "text/plain": [
       "<Figure size 432x288 with 1 Axes>"
      ]
     },
     "metadata": {
      "needs_background": "light"
     },
     "output_type": "display_data"
    }
   ],
   "source": [
    "# plot predictions vs real value\n",
    "\n",
    "plt.scatter(y_test,X_test_preds)\n",
    "plt.xlabel('True Price')\n",
    "plt.ylabel('Predicted Price')"
   ]
  },
  {
   "cell_type": "code",
   "execution_count": 13,
   "metadata": {},
   "outputs": [
    {
     "data": {
      "text/plain": [
       "<matplotlib.axes._subplots.AxesSubplot at 0x133bad7cc0>"
      ]
     },
     "execution_count": 13,
     "metadata": {},
     "output_type": "execute_result"
    },
    {
     "data": {
      "image/png": "[encoded data removed]",
      "text/plain": [
       "<Figure size 1296x432 with 1 Axes>"
      ]
     },
     "metadata": {
      "needs_background": "light"
     },
     "output_type": "display_data"
    }
   ],
   "source": [
    "# let's explore the importance of the features\n",
    "# the importance is given by the absolute value of the coefficient\n",
    "# assigned by the Lasso\n",
    "\n",
    "importance = pd.Series(np.abs(house_pipe.named_steps['lasso'].coef_))\n",
    "importance.index = list(final_columns)+['LotFrontage_na', 'MasVnrArea_na',  'GarageYrBlt_na']\n",
    "importance.sort_values(inplace=True, ascending=False)\n",
    "importance.plot.bar(figsize=(18,6))"
   ]
  },
  {
   "cell_type": "code",
   "execution_count": null,
   "metadata": {},
   "outputs": [],
   "source": []
  }
 ],
 "metadata": {
  "kernelspec": {
   "display_name": "Python 3",
   "language": "python",
   "name": "python3"
  },
  "language_info": {
   "codemirror_mode": {
    "name": "ipython",
    "version": 3
   },
   "file_extension": ".py",
   "mimetype": "text/x-python",
   "name": "python",
   "nbconvert_exporter": "python",
   "pygments_lexer": "ipython3",
   "version": "3.7.6"
  },
  "toc": {
   "nav_menu": {},
   "number_sections": true,
   "sideBar": true,
   "skip_h1_title": false,
   "toc_cell": false,
   "toc_position": {
    "height": "583px",
    "left": "0px",
    "right": "1324px",
    "top": "107px",
    "width": "212px"
   },
   "toc_section_display": "block",
   "toc_window_display": true
  }
 },
 "nbformat": 4,
 "nbformat_minor": 2
}
